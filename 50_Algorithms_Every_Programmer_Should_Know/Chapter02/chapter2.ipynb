{
  "nbformat": 4,
  "nbformat_minor": 0,
  "metadata": {
    "colab": {
      "provenance": [],
      "authorship_tag": "ABX9TyMHvmGwcp5mvJ0p3cjowLOq",
      "include_colab_link": true
    },
    "kernelspec": {
      "name": "python3",
      "display_name": "Python 3"
    },
    "language_info": {
      "name": "python"
    }
  },
  "cells": [
    {
      "cell_type": "markdown",
      "metadata": {
        "id": "view-in-github",
        "colab_type": "text"
      },
      "source": [
        "<a href=\"https://colab.research.google.com/github/cloudanum/50Algorithms/blob/main/chapter2.ipynb\" target=\"_parent\"><img src=\"https://colab.research.google.com/assets/colab-badge.svg\" alt=\"Open In Colab\"/></a>"
      ]
    },
    {
      "cell_type": "code",
      "execution_count": 6,
      "metadata": {
        "colab": {
          "base_uri": "https://localhost:8080/"
        },
        "id": "wydoORrd3yY-",
        "outputId": "4b335ef7-27ea-420e-80f3-25244546eed5"
      },
      "outputs": [
        {
          "output_type": "stream",
          "name": "stdout",
          "text": [
            "Collecting ddgs\n",
            "  Downloading ddgs-9.5.5-py3-none-any.whl.metadata (18 kB)\n",
            "Requirement already satisfied: click>=8.1.8 in /usr/local/lib/python3.12/dist-packages (from ddgs) (8.2.1)\n",
            "Requirement already satisfied: primp>=0.15.0 in /usr/local/lib/python3.12/dist-packages (from ddgs) (0.15.0)\n",
            "Collecting lxml>=6.0.0 (from ddgs)\n",
            "  Downloading lxml-6.0.1-cp312-cp312-manylinux_2_26_x86_64.manylinux_2_28_x86_64.whl.metadata (3.8 kB)\n",
            "Downloading ddgs-9.5.5-py3-none-any.whl (37 kB)\n",
            "Downloading lxml-6.0.1-cp312-cp312-manylinux_2_26_x86_64.manylinux_2_28_x86_64.whl (5.3 MB)\n",
            "\u001b[2K   \u001b[90m━━━━━━━━━━━━━━━━━━━━━━━━━━━━━━━━━━━━━━━━\u001b[0m \u001b[32m5.3/5.3 MB\u001b[0m \u001b[31m22.6 MB/s\u001b[0m eta \u001b[36m0:00:00\u001b[0m\n",
            "\u001b[?25hInstalling collected packages: lxml, ddgs\n",
            "  Attempting uninstall: lxml\n",
            "    Found existing installation: lxml 5.4.0\n",
            "    Uninstalling lxml-5.4.0:\n",
            "      Successfully uninstalled lxml-5.4.0\n",
            "Successfully installed ddgs-9.5.5 lxml-6.0.1\n"
          ]
        }
      ],
      "source": [
        "!pip -q install -U \"requests>=2.32.5,<3\"\n",
        "!pip -q install -U \\\n",
        "  \"langchain==0.3.*\" \\\n",
        "  \"langchain-community==0.3.*\" \\\n",
        "  \"langchain-openai==0.2.*\" \\\n",
        "  \"duckduckgo-search>=6.2.6,<7\" \\\n",
        "  sympy\n",
        "\n",
        "!pip install -U ddgs\n",
        "\n"
      ]
    },
    {
      "cell_type": "code",
      "source": [
        "from importlib.metadata import version, PackageNotFoundError\n",
        "\n",
        "def show_ver(pkg):\n",
        "    try:\n",
        "        print(f\"{pkg}: {version(pkg)}\")\n",
        "    except PackageNotFoundError:\n",
        "        print(f\"{pkg}: NOT INSTALLED\")\n",
        "\n",
        "show_ver(\"requests\")\n",
        "show_ver(\"langchain\")\n",
        "show_ver(\"langchain-community\")\n",
        "show_ver(\"langchain-openai\")\n",
        "show_ver(\"duckduckgo-search\")\n",
        "show_ver(\"sympy\")\n",
        "\n"
      ],
      "metadata": {
        "colab": {
          "base_uri": "https://localhost:8080/"
        },
        "id": "eGbm3mu_46MO",
        "outputId": "6234d3c9-7c28-4d7d-d648-65d59a647bd8"
      },
      "execution_count": 7,
      "outputs": [
        {
          "output_type": "stream",
          "name": "stdout",
          "text": [
            "requests: 2.32.5\n",
            "langchain: 0.3.27\n",
            "langchain-community: 0.3.29\n",
            "langchain-openai: 0.2.14\n",
            "duckduckgo-search: 6.4.2\n",
            "sympy: 1.14.0\n"
          ]
        }
      ]
    },
    {
      "cell_type": "code",
      "source": [
        "import os\n",
        "from getpass import getpass\n",
        "os.environ[\"OPENAI_API_KEY\"] = getpass(\"Enter your OpenAI API key: \")\n"
      ],
      "metadata": {
        "colab": {
          "base_uri": "https://localhost:8080/"
        },
        "id": "O7QfgWKA5TFQ",
        "outputId": "a967319f-42a3-4cdd-9990-4d23ae06699a"
      },
      "execution_count": 16,
      "outputs": [
        {
          "name": "stdout",
          "output_type": "stream",
          "text": [
            "Enter your OpenAI API key: ··········\n"
          ]
        }
      ]
    },
    {
      "cell_type": "code",
      "source": [
        "# --------------------------------------------------------------\n",
        "# 1) (Colab) Install dependencies — run once per runtime\n",
        "# --------------------------------------------------------------\n",
        "# If you haven't installed in this runtime yet, uncomment:\n",
        "# !pip -q install -U langchain langchain-community langchain-openai ddgs duckduckgo-search sympy\n",
        "\n",
        "# --------------------------------------------------------------\n",
        "# 2) Set your OpenAI API key\n",
        "# --------------------------------------------------------------\n",
        "\n",
        "\n",
        "# --------------------------------------------------------------\n",
        "# 3) Imports\n",
        "# --------------------------------------------------------------\n",
        "from pydantic import BaseModel, Field\n",
        "from sympy import sympify\n",
        "\n",
        "from langchain import hub\n",
        "from langchain_openai import ChatOpenAI\n",
        "from langchain_core.tools import StructuredTool\n",
        "from langchain_community.tools.ddg_search.tool import DuckDuckGoSearchRun\n",
        "\n",
        "from langchain.agents import AgentExecutor, create_react_agent\n",
        "\n",
        "# --------------------------------------------------------------\n",
        "# 4) Define tools\n",
        "# --------------------------------------------------------------\n",
        "class CalcInput(BaseModel):\n",
        "    expression: str = Field(..., description=\"A math expression, e.g., 'sqrt(144)' or '2+2*5'\")\n",
        "\n",
        "def safe_calculator(expression: str) -> str:\n",
        "    \"\"\"Safely evaluate mathematical expressions with sympy.\"\"\"\n",
        "    try:\n",
        "        return str(sympify(expression))\n",
        "    except Exception as e:\n",
        "        return f\"Invalid mathematical expression: {e}\"\n",
        "\n",
        "calculator_tool = StructuredTool.from_function(\n",
        "    name=\"Calculator\",\n",
        "    func=safe_calculator,\n",
        "    description=\"Safely evaluate mathematical expressions using sympy.\",\n",
        "    args_schema=CalcInput,\n",
        ")\n",
        "\n",
        "search_tool = DuckDuckGoSearchRun(name=\"WebSearch\")\n",
        "tools = [calculator_tool, search_tool]\n",
        "\n",
        "# --------------------------------------------------------------\n",
        "# 5) LLM\n",
        "# --------------------------------------------------------------\n",
        "llm = ChatOpenAI(model=\"gpt-4o-mini\", temperature=0)\n",
        "\n",
        "# --------------------------------------------------------------\n",
        "# 6) Pull the official ReAct prompt from LangChain Hub\n",
        "#    (solves the agent_scratchpad/tools formatting automatically)\n",
        "# --------------------------------------------------------------\n",
        "prompt = hub.pull(\"hwchase17/react\")  # requires internet in Colab\n",
        "\n",
        "# --------------------------------------------------------------\n",
        "# 7) Build the ReAct agent and executor\n",
        "# --------------------------------------------------------------\n",
        "agent = create_react_agent(llm=llm, tools=tools, prompt=prompt)\n",
        "agent_executor = AgentExecutor(agent=agent, tools=tools, verbose=True)\n",
        "\n",
        "# --------------------------------------------------------------\n",
        "# 8) Invoke (no need to pass agent_scratchpad)\n",
        "# --------------------------------------------------------------\n",
        "result = agent_executor.invoke({\n",
        "    \"input\": \"What’s the square root of 144, and can you find recent news about that number?\"\n",
        "})\n",
        "\n",
        "print(\"\\n=== Final Answer ===\")\n",
        "print(result[\"output\"])\n"
      ],
      "metadata": {
        "colab": {
          "base_uri": "https://localhost:8080/"
        },
        "id": "Npu6Ob9U7WIZ",
        "outputId": "74f8a30a-5960-483c-8698-b297dc88467a"
      },
      "execution_count": 17,
      "outputs": [
        {
          "output_type": "stream",
          "name": "stdout",
          "text": [
            "\n",
            "\n",
            "\u001b[1m> Entering new AgentExecutor chain...\u001b[0m\n",
            "\u001b[32;1m\u001b[1;3mTo answer the question, I need to calculate the square root of 144 first. After that, I will search for recent news related to the number 144. \n",
            "\n",
            "Action: Calculator  \n",
            "Action Input: \"sqrt(144)\"  \u001b[0m\u001b[36;1m\u001b[1;3m12\u001b[0m\u001b[32;1m\u001b[1;3mI have calculated the square root of 144, which is 12. Now, I will search for recent news related to the number 144.\n",
            "\n",
            "Action: WebSearch  \n",
            "Action Input: \"news about 144\"  \u001b[0m\u001b[33;1m\u001b[1;3mJune 14, 2025 - In 2024, around 23,200 Witnesses ... of the 144,000, an increase of nearly 14,000 since 2005. The Watch Tower Society has stated that the number of partakers is expected to decrease each year, but has also stated that members should not be concerned about the number ... June 10, 2025 - It is also a square (12·12=144). March 16, 2025 - 144 may refer to: 144 (number), the natural number following 143 and preceding 145 · AD 144 , a year of the Julian calendar, in the second century AD · 144 BC, a year of the pre-Julian Roman calendar · 144 (film), a 2015 Indian comedy · 144 (video game), working title of The Path, a ... Section 144 Imposed in Doda || 163 BNNS | Public Gathering Restricted | TLR News. 4 days ago — Karnataka news: Clashes erupt during Lord Ganesh idol immersion in Mandya , protest follows, Section 144 imposed. Karnataka Home Minister G. Parmeshwara said ...\u001b[0m\u001b[32;1m\u001b[1;3mI have found some recent news related to the number 144. It appears that there are various references to the number, including its mathematical properties and its historical significance. Additionally, there was a mention of \"Section 144\" being imposed in Doda, which restricts public gatherings, and clashes during a festival in Karnataka that led to this imposition.\n",
            "\n",
            "Final Answer: The square root of 144 is 12. Recent news includes references to \"Section 144\" being imposed in Doda due to public gathering restrictions and clashes during a festival in Karnataka.\u001b[0m\n",
            "\n",
            "\u001b[1m> Finished chain.\u001b[0m\n",
            "\n",
            "=== Final Answer ===\n",
            "The square root of 144 is 12. Recent news includes references to \"Section 144\" being imposed in Doda due to public gathering restrictions and clashes during a festival in Karnataka.\n"
          ]
        }
      ]
    }
  ]
}