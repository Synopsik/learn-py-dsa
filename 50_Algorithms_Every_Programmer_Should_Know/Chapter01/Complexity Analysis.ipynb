{
 "cells": [
  {
   "metadata": {},
   "cell_type": "markdown",
   "source": [
    "# Space Complexity Analysis\n",
    "Space complexity analysis estimates the amount of memory required by the algorithm to process input data. These tend to be iterative, and so, it is important to first classify the type of iterative algorith we plan to use. An iterative algorithm can use one of the following three types of iterations:\n",
    "* **Converging Iterations**: The amount of data is sequentially decreased after each iteration. The main challenge is to tackle the space complexity of the initial iterations.\n",
    "* **Diverging Iterations**: The amount of data is sequentially increased after each iteration. Constraints can be be set to limit the number of iterations and/or by setting a limit on the size of initial data.\n",
    "* **Flat Iterations**: The amount of data remains constant after each iteration.\n",
    "\n",
    "The following are guidelines to minimize the space complexity:\n",
    "* Whenever possible, try to design an algorithm as iterative\n",
    "* While designing an iterative algorithm, whenever there is a choice, prefer a larger number of iterations over a smaller number of iterations. A find-grained larger number of iterations is expected to have less space complexity.\n",
    "* Algorithms should bring only the information needed for current processing into memory. Whatever is not needed should be flushed out from the memory.\n",
    "\n",
    "# Time Complexity Analysis\n",
    "Time complexity analysis estimates how long it will take for an algorithm to complete its assigned job based on its structure.\n",
    "The overall goal is to try and answer these important two questions:\n",
    "1. Will this algorithm scale?\n",
    "2. How well will this algorithm handle larger datasets?\n",
    "\n",
    "Two basic approaches to calculating the time complexity of an algorithm:\n",
    "1. **Post-implementation profiling approach**: Different candidate algorithms are implemented, and their performance is compared.\n",
    "2. **Pre-implementation theoretical approach**: The performance of each algorithm is approximated mathematically before running an algorithm.\n"
   ],
   "id": "59482662e5d967c"
  }
 ],
 "metadata": {
  "kernelspec": {
   "display_name": "Python 3",
   "language": "python",
   "name": "python3"
  },
  "language_info": {
   "codemirror_mode": {
    "name": "ipython",
    "version": 2
   },
   "file_extension": ".py",
   "mimetype": "text/x-python",
   "name": "python",
   "nbconvert_exporter": "python",
   "pygments_lexer": "ipython2",
   "version": "2.7.6"
  }
 },
 "nbformat": 4,
 "nbformat_minor": 5
}
