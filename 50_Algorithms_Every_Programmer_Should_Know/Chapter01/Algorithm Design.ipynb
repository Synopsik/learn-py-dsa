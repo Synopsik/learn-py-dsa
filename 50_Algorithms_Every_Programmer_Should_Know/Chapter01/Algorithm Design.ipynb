{
 "cells": [
  {
   "metadata": {},
   "cell_type": "markdown",
   "source": [
    "# Algorithm Design\n",
    "\n",
    "The process starts with understanding the requirements from the problem statement that details what needs to be done.\n",
    "Once the problem is clearly stated, it leads us to the development (coding) phase.\n",
    "\n",
    "### 1. The Design Phase\n",
    "This is where we evision and document the architecture, logic, and implementation details of the algorithm. It's important to keep accuracy and performance in mind when choosing between candidate algorithms. Some algorithms may be very accurate but may take considerable time to run, while some algorithms may be more efficient. The tradeoffs between algorithms should be studied (satisfactory performance & reasonable accuracy).\n",
    "\n",
    "### 2. The Coding Phase\n",
    "Then, we begin converting the designed algorithm into a computer program.\n",
    "\n",
    "---\n",
    "\n",
    "## Algorithm Design Techniques\n",
    "An algorithm is a mathematical solution to a real-world problem. \n",
    "Understanding the complexity of a problem helps us design an appropriate solution if we characterize the problem in terms of its needs and complexity.\n",
    "\n",
    "1. Is this algorithm producing the result we expected?\n",
    "2. Is this the most optimal way to get these results?\n",
    "3. How is the algorithm going to perform on larger datasets?\n",
    "\n",
    "---\n",
    "\n",
    "## Algorithm Types\n",
    "### Data-Intensive Algorithms\n",
    "These are designed to deal with a large amount of data. Expected to have relatively simplistic processing requirements. The size of the data is expeted to be much larger than the memory of the processing engine, an iterative processing design may need to be developed to efficiently process the data according to the requirements.\n",
    "\n",
    "### Compute-Intensive Algorithms\n",
    "These have considerable processing requirements but do not involve large amounts of data. Finding a strategy to divide the algorithm into different phases so that at least some of the phases are parallelized is key to maximizing the performance of the algorithm.\n",
    "\n",
    "### Both Data and Compute-Intensive Algorithms\n",
    " Some algorithms deal with a large amount of data and also have considerable computing requirements. These are the most resource-intensive algorithms and require careful design of the algorithm and intelligent allocation of available resources.\n",
    " \n",
    "---\n",
    "\n",
    "## The Data Dimension\n",
    "To categorize the data dimension of the problem, we look at its volume, velocity, and variety (the **3Vs**)\n",
    "1. The **volume** is the expected size of the data that the algorithm will process.\n",
    "2. The **velocity** is the expected rate of new data generation when the algorithm is used. It can be zero.\n",
    "3. The **variety** quantifies how many different types of data the designed algorithm is expected to deal with.\n",
    "\n",
    "---\n",
    "\n",
    "## Validating an Algorithm\n",
    "Algorithms can be divided further into the following two types based on assumptions or approximation used to simplify the logic to make them run faster:\n",
    "* **An exact algorithm**: Exact algorithms are expected to produce a precise solution without introducing any assumptions or approximations.\n",
    "* **An approximate algorithm**: When the problem complexity is too much to handle for the given resources, we simplify our problem by making some assumptions. The algorithms based on these simplifications or assumptions are called approximate algorithms, which don't quite give us the precise solution."
   ],
   "id": "774c121b7ff74df5"
  }
 ],
 "metadata": {
  "kernelspec": {
   "display_name": "Python 3",
   "language": "python",
   "name": "python3"
  },
  "language_info": {
   "codemirror_mode": {
    "name": "ipython",
    "version": 2
   },
   "file_extension": ".py",
   "mimetype": "text/x-python",
   "name": "python",
   "nbconvert_exporter": "python",
   "pygments_lexer": "ipython2",
   "version": "2.7.6"
  }
 },
 "nbformat": 4,
 "nbformat_minor": 5
}
